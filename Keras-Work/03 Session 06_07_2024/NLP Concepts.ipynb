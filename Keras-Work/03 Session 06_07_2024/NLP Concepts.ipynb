{
 "cells": [
  {
   "cell_type": "code",
   "execution_count": 4,
   "metadata": {},
   "outputs": [
    {
     "name": "stdout",
     "output_type": "stream",
     "text": [
      "Word Index:\n",
      " {'learning': 1, 'machine': 2, 'is': 3, 'a': 4, 'i': 5, 'love': 6, 'deep': 7, 'subset': 8, 'of': 9, 'natural': 10, 'language': 11, 'processing': 12, 'fascinating': 13, 'field': 14}\n",
      "Sequences:\n",
      " [[5, 6, 2, 1], [7, 1, 3, 4, 8, 9, 2, 1], [10, 11, 12, 3, 4, 13, 14]]\n",
      "Padded Sequences:\n",
      " [[ 5  6  2  1  0  0  0  0]\n",
      " [ 7  1  3  4  8  9  2  1]\n",
      " [10 11 12  3  4 13 14  0]]\n"
     ]
    }
   ],
   "source": [
    "import numpy as np\n",
    "from tensorflow.keras.preprocessing.text import Tokenizer\n",
    "from tensorflow.keras.preprocessing.sequence import pad_sequences\n",
    "\n",
    "# Sample texts\n",
    "texts = [\n",
    "    \"I love machine learning\",\n",
    "    \"Deep learning is a subset of machine learning\",\n",
    "    \"Natural language processing is a fascinating field\"\n",
    "]\n",
    "\n",
    "# Initialize the tokenizer\n",
    "tokenizer = Tokenizer(num_words=100)  # num_words limits the vocabulary size to the top 100 words\n",
    "\n",
    "# Fit the tokenizer on the texts\n",
    "tokenizer.fit_on_texts(texts)\n",
    "\n",
    "# Print the word index\n",
    "print(\"Word Index:\\n\", tokenizer.word_index)\n",
    "\n",
    "# Convert texts to sequences\n",
    "sequences = tokenizer.texts_to_sequences(texts)\n",
    "print(\"Sequences:\\n\", sequences)\n",
    "\n",
    "# Pad the sequences to ensure uniform length\n",
    "padded_sequences = pad_sequences(sequences, padding='post')\n",
    "print(\"Padded Sequences:\\n\", padded_sequences)"
   ]
  }
 ],
 "metadata": {
  "kernelspec": {
   "display_name": "Python 3",
   "language": "python",
   "name": "python3"
  },
  "language_info": {
   "codemirror_mode": {
    "name": "ipython",
    "version": 3
   },
   "file_extension": ".py",
   "mimetype": "text/x-python",
   "name": "python",
   "nbconvert_exporter": "python",
   "pygments_lexer": "ipython3",
   "version": "3.12.4"
  }
 },
 "nbformat": 4,
 "nbformat_minor": 2
}
